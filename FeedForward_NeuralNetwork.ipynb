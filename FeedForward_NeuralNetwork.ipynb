{
  "nbformat": 4,
  "nbformat_minor": 0,
  "metadata": {
    "colab": {
      "provenance": [],
      "authorship_tag": "ABX9TyOxY5pkbv5gBn+lXvA+UrqL",
      "include_colab_link": true
    },
    "kernelspec": {
      "name": "python3",
      "display_name": "Python 3"
    },
    "language_info": {
      "name": "python"
    }
  },
  "cells": [
    {
      "cell_type": "markdown",
      "metadata": {
        "id": "view-in-github",
        "colab_type": "text"
      },
      "source": [
        "<a href=\"https://colab.research.google.com/github/axitpatel1310/Neural_networks/blob/main/FeedForward_NeuralNetwork.ipynb\" target=\"_parent\"><img src=\"https://colab.research.google.com/assets/colab-badge.svg\" alt=\"Open In Colab\"/></a>"
      ]
    },
    {
      "cell_type": "code",
      "source": [
        "pip install tensor"
      ],
      "metadata": {
        "id": "ZRcaE1DibKo3"
      },
      "execution_count": null,
      "outputs": []
    },
    {
      "cell_type": "code",
      "execution_count": null,
      "metadata": {
        "id": "NsMMENJ6akjQ"
      },
      "outputs": [],
      "source": [
        "import pandas as pd\n",
        "from tensorflow.keras import layers\n",
        "from tensorflow import keras"
      ]
    },
    {
      "cell_type": "code",
      "source": [
        "df = pd.read_csv('/content/sample_data/california_housing_test.csv')"
      ],
      "metadata": {
        "id": "XSoU9urdavbl"
      },
      "execution_count": null,
      "outputs": []
    },
    {
      "cell_type": "code",
      "source": [
        "df.head()"
      ],
      "metadata": {
        "id": "dcHWpWBIbiZM"
      },
      "execution_count": null,
      "outputs": []
    },
    {
      "cell_type": "code",
      "source": [
        "x = df[['total_rooms','total_bedrooms',]]\n",
        "y = df['median_house_value']"
      ],
      "metadata": {
        "id": "Y3wC5ckmbkuq"
      },
      "execution_count": null,
      "outputs": []
    },
    {
      "cell_type": "code",
      "source": [
        "model = keras.Sequential([\n",
        "    layers.Dense(2, activation='relu', input_shape=(2,)),\n",
        "    layers.Dense(1,activation=\"sigmoid\")\n",
        "])\n",
        "model.compile(optimizer=\"sgd\",loss='binary_crossentropy')"
      ],
      "metadata": {
        "id": "-PVli_KUb5V2"
      },
      "execution_count": null,
      "outputs": []
    },
    {
      "cell_type": "code",
      "source": [
        "model.fit(x,y,epochs=200,verbose=0)\n",
        "y_prob = model.predict(x)\n",
        "\n",
        "print(\"probability:\",y_prob.round(3))\n",
        "print(\"Prediction:\",(y_prob>0.5).astype(int))"
      ],
      "metadata": {
        "colab": {
          "base_uri": "https://localhost:8080/"
        },
        "id": "VvgBL71rcQ9s",
        "outputId": "7a77adf5-fc79-43c1-b582-f4f8d2665d2f"
      },
      "execution_count": null,
      "outputs": [
        {
          "output_type": "stream",
          "name": "stdout",
          "text": [
            "\u001b[1m94/94\u001b[0m \u001b[32m━━━━━━━━━━━━━━━━━━━━\u001b[0m\u001b[37m\u001b[0m \u001b[1m0s\u001b[0m 763us/step\n",
            "probability: [[1.]\n",
            " [1.]\n",
            " [1.]\n",
            " ...\n",
            " [1.]\n",
            " [1.]\n",
            " [1.]]\n",
            "Prediction: [[1]\n",
            " [1]\n",
            " [1]\n",
            " ...\n",
            " [1]\n",
            " [1]\n",
            " [1]]\n"
          ]
        }
      ]
    },
    {
      "cell_type": "code",
      "source": [],
      "metadata": {
        "id": "7fqA4ULicoE2"
      },
      "execution_count": null,
      "outputs": []
    }
  ]
}